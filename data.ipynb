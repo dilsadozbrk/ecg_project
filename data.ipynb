{
 "cells": [
  {
   "cell_type": "code",
   "execution_count": 1,
   "metadata": {},
   "outputs": [],
   "source": [
    "import pandas as pd\n",
    "import glob\n",
    "#from scipy.io import loadmat as sc # library to open .mab files\n",
    "import os\n",
    "import pyarrow.csv as pv\n",
    "import pyarrow.parquet as pq"
   ]
  },
  {
   "cell_type": "code",
   "execution_count": null,
   "metadata": {},
   "outputs": [],
   "source": [
    "df = pd.read_csv('data/data.csv', sep=';', on_bad_lines='skip')\n",
    "df['Dx'][0]"
   ]
  },
  {
   "cell_type": "code",
   "execution_count": null,
   "metadata": {},
   "outputs": [],
   "source": [
    "df = pd.read_csv('data/matlab_files/mab2.csv')\n",
    "df.to_csv('data/matlab_files/mab1.csv', mode='a', index=False, header=False)"
   ]
  },
  {
   "cell_type": "code",
   "execution_count": null,
   "metadata": {},
   "outputs": [],
   "source": [
    "df = pd.read_csv('data/matlab_files/mab1.csv')\n",
    "df.shape"
   ]
  },
  {
   "cell_type": "code",
   "execution_count": null,
   "metadata": {},
   "outputs": [],
   "source": [
    "parent_path = ('raw_data/WFDBRecords/01/010/')\n",
    "paths_hea = glob.glob(parent_path + '*.hea') #getting path for each .hea file\n",
    "paths_mab = glob.glob(parent_path + '*.mat') #getting path for each .hea file"
   ]
  },
  {
   "cell_type": "code",
   "execution_count": null,
   "metadata": {},
   "outputs": [],
   "source": [
    "mat = sc('raw_data/WFDBRecords/01/010/JS00001.mat')\n",
    "df_mat = pd.DataFrame(mat['val'])\n",
    "df_mat.to_csv('data/matlab_files/mab1.csv', index=False)"
   ]
  },
  {
   "cell_type": "code",
   "execution_count": null,
   "metadata": {},
   "outputs": [],
   "source": [
    "for file in paths_mab:\n",
    "    for n in range(2, len(paths_mab)):\n",
    "        mat=sc(file)\n",
    "        df_mat= pd.DataFrame(mat['val'])\n",
    "    df_mat.to_csv('data/matlab_files/mab1.csv', mode='a', index=False, header=False)"
   ]
  },
  {
   "cell_type": "code",
   "execution_count": 2,
   "metadata": {},
   "outputs": [],
   "source": [
    "df = pd.read_csv('data/matlab_files/mab1.csv')\n",
    "df.to_parquet('mabfiles.parquet', engine=\"fastparquet\")"
   ]
  }
 ],
 "metadata": {
  "kernelspec": {
   "display_name": "venv",
   "language": "python",
   "name": "python3"
  },
  "language_info": {
   "codemirror_mode": {
    "name": "ipython",
    "version": 3
   },
   "file_extension": ".py",
   "mimetype": "text/x-python",
   "name": "python",
   "nbconvert_exporter": "python",
   "pygments_lexer": "ipython3",
   "version": "3.11.2"
  },
  "orig_nbformat": 4
 },
 "nbformat": 4,
 "nbformat_minor": 2
}
