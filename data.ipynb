{
 "cells": [
  {
   "cell_type": "code",
   "execution_count": 1,
   "id": "152fe02f",
   "metadata": {},
   "outputs": [],
   "source": [
    "import pandas as pd"
   ]
  },
  {
   "cell_type": "code",
   "execution_count": null,
   "id": "188fc139",
   "metadata": {},
   "outputs": [],
   "source": []
  },
  {
   "cell_type": "code",
   "execution_count": 2,
   "id": "14a3caa2",
   "metadata": {},
   "outputs": [],
   "source": [
    "import glob"
   ]
  },
  {
   "cell_type": "code",
   "execution_count": 6,
   "id": "c097647f",
   "metadata": {},
   "outputs": [],
   "source": [
    "paths_hea = glob.glob('a-large-scale-12-lead-electrocardiogram-database-for-arrhythmia-study-1.0.0/WFDBRecords/01/010/*.hea') #getting path for each .hea file"
   ]
  },
  {
   "cell_type": "code",
   "execution_count": 8,
   "id": "5d37b882",
   "metadata": {},
   "outputs": [
    {
     "data": {
      "text/plain": [
       "[['#Age: 77\\n', '#Sex: Male\\n', '#Dx: 164889003,55827005,428750005\\n'],\n",
       " ['#Age: 72\\n', '#Sex: Male\\n', '#Dx: 426177001,55827005\\n'],\n",
       " ['#Age: 68\\n', '#Sex: Female\\n', '#Dx: 426783006,39732003\\n'],\n",
       " ['#Age: 62\\n', '#Sex: Male\\n', '#Dx: 426177001\\n'],\n",
       " ['#Age: 49\\n', '#Sex: Female\\n', '#Dx: 426177001,164934002\\n'],\n",
       " ['#Age: 68\\n', '#Sex: Male\\n', '#Dx: 426177001\\n'],\n",
       " ['#Age: 58\\n', '#Sex: Male\\n', '#Dx: 426783006\\n'],\n",
       " ['#Age: 71\\n', '#Sex: Female\\n', '#Dx: 164889003,55827005,164934002\\n'],\n",
       " ['#Age: 63\\n', '#Sex: Female\\n', '#Dx: 426783006\\n'],\n",
       " ['#Age: 39\\n', '#Sex: Female\\n', '#Dx: 427084000,428750005\\n'],\n",
       " ['#Age: 60\\n', '#Sex: Male\\n', '#Dx: 426177001\\n'],\n",
       " ['#Age: 76\\n',\n",
       "  '#Sex: Female\\n',\n",
       "  '#Dx: 164889003,698252002,55827005,428750005\\n'],\n",
       " ['#Age: 48\\n', '#Sex: Male\\n', '#Dx: 426177001\\n'],\n",
       " ['#Age: 85\\n', '#Sex: Male\\n', '#Dx: 426177001,39732003\\n'],\n",
       " ['#Age: 49\\n', '#Sex: Male\\n', '#Dx: 426177001\\n'],\n",
       " ['#Age: 71\\n', '#Sex: Male\\n', '#Dx: 426783006\\n'],\n",
       " ['#Age: 80\\n', '#Sex: Male\\n', '#Dx: 164889003\\n'],\n",
       " ['#Age: 84\\n',\n",
       "  '#Sex: Male\\n',\n",
       "  '#Dx: 164889003,39732003,164934002,17338001\\n'],\n",
       " ['#Age: 84\\n', '#Sex: Male\\n', '#Dx: 164889003\\n'],\n",
       " ['#Age: 65\\n', '#Sex: Male\\n', '#Dx: 426177001,164934002\\n'],\n",
       " ['#Age: 48\\n', '#Sex: Male\\n', '#Dx: 427084000,251146004\\n'],\n",
       " ['#Age: 59\\n', '#Sex: Male\\n', '#Dx: 426177001,55827005\\n'],\n",
       " ['#Age: 45\\n', '#Sex: Female\\n', '#Dx: 426177001\\n'],\n",
       " ['#Age: 62\\n', '#Sex: Female\\n', '#Dx: 426783006,39732003\\n'],\n",
       " ['#Age: 77\\n', '#Sex: Female\\n', '#Dx: 426177001,251199005\\n'],\n",
       " ['#Age: 30\\n', '#Sex: Male\\n', '#Dx: 426783006\\n'],\n",
       " ['#Age: 42\\n', '#Sex: Male\\n', '#Dx: 426177001,164934002\\n'],\n",
       " ['#Age: 67\\n', '#Sex: Male\\n', '#Dx: 426177001\\n'],\n",
       " ['#Age: 66\\n', '#Sex: Male\\n', '#Dx: 426177001\\n'],\n",
       " ['#Age: 47\\n', '#Sex: Female\\n', '#Dx: 426177001\\n'],\n",
       " ['#Age: 71\\n', '#Sex: Male\\n', '#Dx: 164889003,55827005,17338001\\n'],\n",
       " ['#Age: 60\\n', '#Sex: Female\\n', '#Dx: 426177001\\n'],\n",
       " ['#Age: 63\\n', '#Sex: Male\\n', '#Dx: 426177001,55827005\\n'],\n",
       " ['#Age: 73\\n', '#Sex: Female\\n', '#Dx: 164890007,429622005,428750005\\n'],\n",
       " ['#Age: 54\\n', '#Sex: Male\\n', '#Dx: 426177001,270492004\\n'],\n",
       " ['#Age: 80\\n', '#Sex: Female\\n', '#Dx: 164889003,164934002\\n'],\n",
       " ['#Age: 46\\n', '#Sex: Female\\n', '#Dx: 426177001\\n'],\n",
       " ['#Age: 77\\n', '#Sex: Male\\n', '#Dx: 427084000\\n'],\n",
       " ['#Age: 67\\n', '#Sex: Female\\n', '#Dx: 164889003,428750005\\n'],\n",
       " ['#Age: 59\\n', '#Sex: Female\\n', '#Dx: 426177001,164934002\\n'],\n",
       " ['#Age: 51\\n', '#Sex: Female\\n', '#Dx: 426177001\\n'],\n",
       " ['#Age: 81\\n', '#Sex: Male\\n', '#Dx: 164890007,233917008\\n'],\n",
       " ['#Age: 85\\n', '#Sex: Male\\n', '#Dx: 164889003,59118001,164934002\\n'],\n",
       " ['#Age: 54\\n', '#Sex: Female\\n', '#Dx: 426177001\\n'],\n",
       " ['#Age: 74\\n', '#Sex: Male\\n', '#Dx: 426177001,251173003,55827005\\n'],\n",
       " ['#Age: 59\\n',\n",
       "  '#Sex: Male\\n',\n",
       "  '#Dx: 426177001,164909002,55827005,164912004\\n'],\n",
       " ['#Age: 59\\n', '#Sex: Male\\n', '#Dx: 426177001\\n'],\n",
       " ['#Age: 68\\n', '#Sex: Female\\n', '#Dx: 426177001,270492004,59931005\\n'],\n",
       " ['#Age: 61\\n', '#Sex: Male\\n', '#Dx: 426177001,59118001\\n'],\n",
       " ['#Age: 81\\n', '#Sex: Male\\n', '#Dx: 164889003,164934002,17338001\\n'],\n",
       " ['#Age: 64\\n', '#Sex: Female\\n', '#Dx: 427084000,164934002\\n'],\n",
       " ['#Age: 36\\n', '#Sex: Male\\n', '#Dx: 427084000\\n'],\n",
       " ['#Age: 71\\n', '#Sex: Male\\n', '#Dx: 426177001,164917005\\n'],\n",
       " ['#Age: 68\\n', '#Sex: Male\\n', '#Dx: 426177001,284470004\\n'],\n",
       " ['#Age: 67\\n', '#Sex: Male\\n', '#Dx: 426177001\\n'],\n",
       " ['#Age: 44\\n', '#Sex: Male\\n', '#Dx: 426177001\\n'],\n",
       " ['#Age: 81\\n', '#Sex: Male\\n', '#Dx: 164889003,164934002\\n'],\n",
       " ['#Age: 49\\n', '#Sex: Female\\n', '#Dx: 426177001\\n'],\n",
       " ['#Age: 74\\n', '#Sex: Female\\n', '#Dx: 164889003\\n'],\n",
       " ['#Age: 46\\n', '#Sex: Male\\n', '#Dx: 426783006\\n'],\n",
       " ['#Age: 70\\n', '#Sex: Female\\n', '#Dx: 426177001\\n'],\n",
       " ['#Age: 87\\n', '#Sex: Female\\n', '#Dx: 164889003,164934002,17338001\\n'],\n",
       " ['#Age: 46\\n', '#Sex: Female\\n', '#Dx: 426783006\\n'],\n",
       " ['#Age: 45\\n', '#Sex: Male\\n', '#Dx: 426177001\\n'],\n",
       " ['#Age: 55\\n', '#Sex: Male\\n', '#Dx: 164889003\\n'],\n",
       " ['#Age: 75\\n', '#Sex: Male\\n', '#Dx: 426177001\\n'],\n",
       " ['#Age: 80\\n', '#Sex: Female\\n', '#Dx: 164889003,428750005,17338001\\n'],\n",
       " ['#Age: 40\\n', '#Sex: Female\\n', '#Dx: 164890007,59118001,428750005\\n'],\n",
       " ['#Age: 65\\n', '#Sex: Female\\n', '#Dx: 426177001\\n'],\n",
       " ['#Age: 48\\n', '#Sex: Female\\n', '#Dx: 426783006\\n'],\n",
       " ['#Age: 88\\n',\n",
       "  '#Sex: Male\\n',\n",
       "  '#Dx: 426177001,270492004,284470004,55827005\\n'],\n",
       " ['#Age: 54\\n', '#Sex: Male\\n', '#Dx: 426177001,55827005\\n'],\n",
       " ['#Age: 89\\n', '#Sex: Male\\n', '#Dx: 164889003,251146004,59118001\\n'],\n",
       " ['#Age: 61\\n', '#Sex: Male\\n', '#Dx: 426177001,55827005,17338001\\n'],\n",
       " ['#Age: 72\\n', '#Sex: Male\\n', '#Dx: 426783006\\n'],\n",
       " ['#Age: 86\\n', '#Sex: Female\\n', '#Dx: 427084000,251146004\\n'],\n",
       " ['#Age: 20\\n', '#Sex: Male\\n', '#Dx: 426177001\\n'],\n",
       " ['#Age: 51\\n', '#Sex: Male\\n', '#Dx: 164865005,164889003,698252002\\n'],\n",
       " ['#Age: 52\\n', '#Sex: Female\\n', '#Dx: 426177001,429622005,164934002\\n'],\n",
       " ['#Age: 65\\n', '#Sex: Male\\n', '#Dx: 164889003\\n'],\n",
       " ['#Age: 57\\n', '#Sex: Male\\n', '#Dx: 426177001\\n'],\n",
       " ['#Age: 81\\n', '#Sex: Male\\n', '#Dx: 426177001,164934002\\n'],\n",
       " ['#Age: 56\\n', '#Sex: Male\\n', '#Dx: 426783006\\n'],\n",
       " ['#Age: 72\\n', '#Sex: Male\\n', '#Dx: 426177001,55827005\\n'],\n",
       " ['#Age: 43\\n', '#Sex: Female\\n', '#Dx: 426783006\\n'],\n",
       " ['#Age: 62\\n', '#Sex: Male\\n', '#Dx: 426177001\\n'],\n",
       " ['#Age: 77\\n', '#Sex: Male\\n', '#Dx: 164889003\\n'],\n",
       " ['#Age: 65\\n', '#Sex: Female\\n', '#Dx: 427084000,17338001\\n'],\n",
       " ['#Age: 36\\n', '#Sex: Female\\n', '#Dx: 426177001\\n'],\n",
       " ['#Age: 74\\n', '#Sex: Male\\n', '#Dx: 164890007,47665007,233917008\\n'],\n",
       " ['#Age: 46\\n', '#Sex: Male\\n', '#Dx: 426177001\\n'],\n",
       " ['#Age: 81\\n',\n",
       "  '#Sex: Male\\n',\n",
       "  '#Dx: 427084000,270492004,698252002,164909002,428750005\\n'],\n",
       " ['#Age: 75\\n',\n",
       "  '#Sex: Male\\n',\n",
       "  '#Dx: 164889003,164865005,429622005,164934002\\n'],\n",
       " ['#Age: 22\\n', '#Sex: Female\\n', '#Dx: 427084000\\n'],\n",
       " ['#Age: 68\\n', '#Sex: Male\\n', '#Dx: 164889003,698252002,55827005\\n'],\n",
       " ['#Age: 31\\n', '#Sex: Male\\n', '#Dx: 427084000\\n'],\n",
       " ['#Age: 72\\n', '#Sex: Male\\n', '#Dx: 426177001\\n'],\n",
       " ['#Age: 80\\n', '#Sex: Female\\n', '#Dx: 426783006\\n'],\n",
       " ['#Age: 52\\n', '#Sex: Male\\n', '#Dx: 426177001\\n'],\n",
       " ['#Age: 89\\n', '#Sex: Male\\n', '#Dx: 164890007,428750005\\n']]"
      ]
     },
     "execution_count": 8,
     "metadata": {},
     "output_type": "execute_result"
    }
   ],
   "source": [
    "lst = []\n",
    "for file in paths_hea:\n",
    "    with open(file, 'r') as fp:\n",
    "        lines = fp.readlines()[13:16] #fetching relavant columns\n",
    "    lst.append(lines)\n",
    "lst"
   ]
  },
  {
   "cell_type": "code",
   "execution_count": 5,
   "id": "690273bf",
   "metadata": {},
   "outputs": [],
   "source": [
    "for i in range(len(lst)):\n",
    "    lst[i] = [x for xs in lst[i] for x in xs.split(':')]\n",
    "    lst[i] = [x.replace(\"#\", \"\").replace(\" \", \"\").replace(\"\\n\", \"\") for x in lst[i]]\n",
    "    i +=1"
   ]
  },
  {
   "cell_type": "code",
   "execution_count": 6,
   "id": "6e768a19",
   "metadata": {},
   "outputs": [],
   "source": [
    "keys = ['Age', 'Sex', 'Dx']"
   ]
  },
  {
   "cell_type": "code",
   "execution_count": 7,
   "id": "eaf98fa8",
   "metadata": {},
   "outputs": [],
   "source": [
    "values = [[sub_itm for sub_itm in sub_list if sub_itm not in keys] for sub_list in lst]"
   ]
  },
  {
   "cell_type": "code",
   "execution_count": 8,
   "id": "990a1f52",
   "metadata": {},
   "outputs": [],
   "source": [
    "df = pd.DataFrame(values, columns = keys)\n",
    "df.to_csv('data.csv', sep=';', index=None)"
   ]
  },
  {
   "cell_type": "code",
   "execution_count": 13,
   "id": "dc964d53",
   "metadata": {},
   "outputs": [],
   "source": [
    "from scipy.io import loadmat as sc"
   ]
  },
  {
   "cell_type": "code",
   "execution_count": 14,
   "id": "41ef6763",
   "metadata": {},
   "outputs": [],
   "source": [
    "mat=sc('JS00001.mat')"
   ]
  },
  {
   "cell_type": "code",
   "execution_count": 15,
   "id": "4a384cb6",
   "metadata": {},
   "outputs": [],
   "source": [
    "df_mat= pd.DataFrame(mat['val'])"
   ]
  },
  {
   "cell_type": "code",
   "execution_count": 16,
   "id": "3506bd83",
   "metadata": {},
   "outputs": [],
   "source": [
    "df_mat.to_csv('mat.csv')"
   ]
  },
  {
   "cell_type": "code",
   "execution_count": 15,
   "id": "dd8d4c5c",
   "metadata": {},
   "outputs": [
    {
     "name": "stdout",
     "output_type": "stream",
     "text": [
      "100\n"
     ]
    }
   ],
   "source": [
    "parent_path = ('a-large-scale-12-lead-electrocardiogram-database-for-arrhythmia-study-1.0.0/WFDBRecords/01/010/')\n",
    "paths_hea = glob.glob(parent_path + '*.hea') #getting path for each .hea file\n",
    "paths_mab = glob.glob(parent_path + '*.mat') #getting path for each .hea file\n",
    "print(len(paths_mab))"
   ]
  },
  {
   "cell_type": "code",
   "execution_count": 14,
   "id": "1d176b1a",
   "metadata": {},
   "outputs": [],
   "source": [
    "for file in paths_mab:\n",
    "    for n in range(1, len(paths_mab)):\n",
    "        mat=sc(file)\n",
    "        df_mat= pd.DataFrame(mat['val'])\n",
    "        print(df_mat.head())\n",
    "        df_mat.to_csv(f'data/matlab_files/mab{n}.csv')"
   ]
  }
 ],
 "metadata": {
  "kernelspec": {
   "display_name": "Python 3 (ipykernel)",
   "language": "python",
   "name": "python3"
  },
  "language_info": {
   "codemirror_mode": {
    "name": "ipython",
    "version": 3
   },
   "file_extension": ".py",
   "mimetype": "text/x-python",
   "name": "python",
   "nbconvert_exporter": "python",
   "pygments_lexer": "ipython3",
   "version": "3.11.2"
  }
 },
 "nbformat": 4,
 "nbformat_minor": 5
}
